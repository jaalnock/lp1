{
 "cells": [
  {
   "cell_type": "code",
   "execution_count": 12,
   "metadata": {},
   "outputs": [
    {
     "name": "stdout",
     "output_type": "stream",
     "text": [
      "Accuracy with Linear Kernel: 0.53315649867374\n",
      "Accuracy with Polynomial Kernel: 0.7811671087533156\n",
      "Polynomial kernel performs better.\n"
     ]
    },
    {
     "name": "stderr",
     "output_type": "stream",
     "text": [
      "c:\\Users\\Lenovo\\anaconda3\\Lib\\site-packages\\sklearn\\svm\\_base.py:297: ConvergenceWarning: Solver terminated early (max_iter=2000).  Consider pre-processing your data with StandardScaler or MinMaxScaler.\n",
      "  warnings.warn(\n"
     ]
    }
   ],
   "source": [
    "import pandas as pd\n",
    "from sklearn.model_selection import train_test_split\n",
    "from sklearn.svm import SVC\n",
    "from sklearn.metrics import accuracy_score\n",
    "from sklearn.preprocessing import LabelEncoder\n",
    "\n",
    "# Load the dataset\n",
    "data = pd.read_csv('./Datasets/bank_transactions_data_2.csv')\n",
    "\n",
    "# Data Preprocessing\n",
    "# Encode categorical variables\n",
    "categorical_columns = ['TransactionType', 'Location', 'Channel', 'CustomerOccupation']\n",
    "\n",
    "for col in categorical_columns:\n",
    "    data[col] = LabelEncoder().fit_transform(data[col])\n",
    "\n",
    "# Feature selection\n",
    "# Select some meaningful features for SVM classification\n",
    "features = ['TransactionAmount', 'CustomerAge', 'TransactionDuration', 'AccountBalance', 'LoginAttempts']\n",
    "X = data[features]\n",
    "\n",
    "# For demonstration, let's create a binary target variable based on `TransactionType` \n",
    "# (e.g., classify transactions as Credit (1) or Debit (0))\n",
    "y = data['TransactionType']\n",
    "\n",
    "# Split the dataset into training and testing sets\n",
    "X_train, X_test, y_train, y_test = train_test_split(X, y, test_size=0.3, random_state=42)\n",
    "\n",
    "# Train and evaluate SVM with Linear Kernel\n",
    "# max_iter : This sets the maximum number of iterations the algorithm will perform during optimization (i.e., training).\n",
    "# tol : The training will stop when the difference in the optimization objective between iterations is smaller than this threshold (1e-3 or 0.001).\n",
    "linear_svm = SVC(kernel='linear', random_state=42, max_iter=2000, tol=1e-5)\n",
    "linear_svm.fit(X_train, y_train)\n",
    "y_pred_linear = linear_svm.predict(X_test)\n",
    "accuracy_linear = accuracy_score(y_test, y_pred_linear)\n",
    "print(\"Accuracy with Linear Kernel:\", accuracy_linear)\n",
    "\n",
    "# Train and evaluate SVM with Polynomial Kernel\n",
    "poly_svm = SVC(kernel='poly', degree=3, random_state=42)  # degree=3 for cubic polynomial\n",
    "poly_svm.fit(X_train, y_train)\n",
    "y_pred_poly = poly_svm.predict(X_test)\n",
    "accuracy_poly = accuracy_score(y_test, y_pred_poly)\n",
    "print(\"Accuracy with Polynomial Kernel:\", accuracy_poly)\n",
    "\n",
    "# Comparison\n",
    "if accuracy_linear > accuracy_poly:\n",
    "    print(\"Linear kernel performs better.\")\n",
    "else:\n",
    "    print(\"Polynomial kernel performs better.\")\n"
   ]
  },
  {
   "cell_type": "code",
   "execution_count": null,
   "metadata": {},
   "outputs": [],
   "source": []
  }
 ],
 "metadata": {
  "kernelspec": {
   "display_name": "base",
   "language": "python",
   "name": "python3"
  },
  "language_info": {
   "codemirror_mode": {
    "name": "ipython",
    "version": 3
   },
   "file_extension": ".py",
   "mimetype": "text/x-python",
   "name": "python",
   "nbconvert_exporter": "python",
   "pygments_lexer": "ipython3",
   "version": "3.12.4"
  }
 },
 "nbformat": 4,
 "nbformat_minor": 2
}
