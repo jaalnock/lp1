{
 "cells": [
  {
   "cell_type": "code",
   "execution_count": 1,
   "metadata": {},
   "outputs": [
    {
     "name": "stdout",
     "output_type": "stream",
     "text": [
      "<class 'pandas.core.frame.DataFrame'>\n",
      "RangeIndex: 2512 entries, 0 to 2511\n",
      "Data columns (total 12 columns):\n",
      " #   Column               Non-Null Count  Dtype  \n",
      "---  ------               --------------  -----  \n",
      " 0   AccountID            2512 non-null   object \n",
      " 1   TransactionAmount    2512 non-null   float64\n",
      " 2   Location             2512 non-null   object \n",
      " 3   DeviceID             2512 non-null   object \n",
      " 4   IP Address           2512 non-null   object \n",
      " 5   MerchantID           2512 non-null   object \n",
      " 6   Channel              2512 non-null   object \n",
      " 7   CustomerAge          2512 non-null   int64  \n",
      " 8   CustomerOccupation   2512 non-null   object \n",
      " 9   TransactionDuration  2512 non-null   int64  \n",
      " 10  LoginAttempts        2512 non-null   int64  \n",
      " 11  AccountBalance       2512 non-null   float64\n",
      "dtypes: float64(2), int64(3), object(7)\n",
      "memory usage: 235.6+ KB\n",
      "None\n",
      "Accuracy with Linear Kernel:  0.5039787798408488\n"
     ]
    },
    {
     "name": "stderr",
     "output_type": "stream",
     "text": [
      "c:\\Users\\Lenovo\\anaconda3\\Lib\\site-packages\\sklearn\\svm\\_base.py:297: ConvergenceWarning: Solver terminated early (max_iter=2000).  Consider pre-processing your data with StandardScaler or MinMaxScaler.\n",
      "  warnings.warn(\n"
     ]
    },
    {
     "name": "stdout",
     "output_type": "stream",
     "text": [
      "Accuracy with Polynomial Kernel: 0.7811671087533156\n",
      "Polynomial kernel performs better.\n"
     ]
    }
   ],
   "source": [
    "import pandas as pd\n",
    "from sklearn.model_selection import train_test_split\n",
    "from sklearn.svm import SVC\n",
    "from sklearn.metrics import accuracy_score\n",
    "from sklearn.preprocessing import LabelEncoder\n",
    "\n",
    "# Load the dataset\n",
    "data = pd.read_csv('./Datasets/bank_transactions_data_2.csv')\n",
    "\n",
    "# Define target variable and features\n",
    "# Assuming 'TransactionType' is the target variable and is categorical (e.g., Fraudulent vs Non-Fraudulent)\n",
    "X = data.drop(columns=['TransactionID', 'TransactionDate', 'PreviousTransactionDate', 'TransactionType'])  # Drop non-informative columns\n",
    "y = data['TransactionType']\n",
    "\n",
    "print(X.info())\n",
    "\n",
    "categorical_cols = X.select_dtypes(include=['object']).columns\n",
    "for col in categorical_cols:\n",
    "    X[col] = LabelEncoder().fit_transform(X[col])\n",
    "\n",
    "# Fill any missing values\n",
    "X.fillna(X.mean(), inplace=True)  # Filling missing numeric values with the mean\n",
    "\n",
    "# For demonstration, let's create a binary target variable based on `TransactionType` \n",
    "# (e.g., classify transactions as Credit (1) or Debit (0))\n",
    "y = data['TransactionType']\n",
    "\n",
    "# Split the dataset into training and testing sets\n",
    "X_train, X_test, y_train, y_test = train_test_split(X, y, test_size=0.3, random_state=42)\n",
    "\n",
    "# Train and evaluate SVM with Linear Kernel\n",
    "# max_iter : This sets the maximum number of iterations the algorithm will perform during optimization (i.e., training).\n",
    "# tol : The training will stop when the difference in the optimization objective between iterations is smaller than this threshold (1e-3 or 0.001).\n",
    "# Linear Kernel SVM\n",
    "svm_linear = SVC(kernel='linear', random_state=42, max_iter=2000, tol=0.0001)\n",
    "svm_linear.fit(X_train, y_train)\n",
    "y_pred_linear = svm_linear.predict(X_test)\n",
    "accuracy_linear = accuracy_score(y_test, y_pred_linear)\n",
    "print(f\"Accuracy with Linear Kernel: \",accuracy_linear)\n",
    "\n",
    "# Train and evaluate SVM with Polynomial Kernel\n",
    "poly_svm = SVC(kernel='poly', degree=3, random_state=42)  # degree=3 for cubic polynomial\n",
    "poly_svm.fit(X_train, y_train)\n",
    "y_pred_poly = poly_svm.predict(X_test)\n",
    "accuracy_poly = accuracy_score(y_test, y_pred_poly)\n",
    "print(\"Accuracy with Polynomial Kernel:\", accuracy_poly)\n",
    "\n",
    "# Comparison\n",
    "if accuracy_linear > accuracy_poly:\n",
    "    print(\"Linear kernel performs better.\")\n",
    "else:\n",
    "    print(\"Polynomial kernel performs better.\")\n"
   ]
  },
  {
   "cell_type": "code",
   "execution_count": null,
   "metadata": {},
   "outputs": [],
   "source": []
  }
 ],
 "metadata": {
  "kernelspec": {
   "display_name": "base",
   "language": "python",
   "name": "python3"
  },
  "language_info": {
   "codemirror_mode": {
    "name": "ipython",
    "version": 3
   },
   "file_extension": ".py",
   "mimetype": "text/x-python",
   "name": "python",
   "nbconvert_exporter": "python",
   "pygments_lexer": "ipython3",
   "version": "3.12.4"
  }
 },
 "nbformat": 4,
 "nbformat_minor": 2
}
